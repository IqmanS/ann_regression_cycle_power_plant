{
  "nbformat": 4,
  "nbformat_minor": 0,
  "metadata": {
    "colab": {
      "provenance": [],
      "include_colab_link": true
    },
    "kernelspec": {
      "name": "python3",
      "display_name": "Python 3"
    }
  },
  "cells": [
    {
      "cell_type": "markdown",
      "metadata": {
        "id": "view-in-github",
        "colab_type": "text"
      },
      "source": [
        "<a href=\"https://colab.research.google.com/github/IqmanS/ann_regression_cycle_power_plant/blob/main/ann_regression.ipynb\" target=\"_parent\"><img src=\"https://colab.research.google.com/assets/colab-badge.svg\" alt=\"Open In Colab\"/></a>"
      ]
    },
    {
      "cell_type": "markdown",
      "metadata": {
        "id": "3cbb7fRy-eyr"
      },
      "source": [
        "# Artificial Neural Network"
      ]
    },
    {
      "cell_type": "markdown",
      "metadata": {
        "id": "8sNDnxE2-pwE"
      },
      "source": [
        "### Importing the libraries"
      ]
    },
    {
      "cell_type": "code",
      "source": [
        "import numpy as np\n",
        "import pandas as pd\n",
        "import tensorflow as tf"
      ],
      "metadata": {
        "id": "3mKZYpdfeIjw"
      },
      "execution_count": 2,
      "outputs": []
    },
    {
      "cell_type": "code",
      "source": [
        "tf.__version__"
      ],
      "metadata": {
        "colab": {
          "base_uri": "https://localhost:8080/",
          "height": 35
        },
        "id": "rL2pQ6dJecMz",
        "outputId": "4487cfac-6f94-467f-f1df-41366aec1b51"
      },
      "execution_count": 3,
      "outputs": [
        {
          "output_type": "execute_result",
          "data": {
            "text/plain": [
              "'2.9.2'"
            ],
            "application/vnd.google.colaboratory.intrinsic+json": {
              "type": "string"
            }
          },
          "metadata": {},
          "execution_count": 3
        }
      ]
    },
    {
      "cell_type": "markdown",
      "metadata": {
        "id": "AG3FQEch-yuA"
      },
      "source": [
        "## Part 1 - Data Preprocessing"
      ]
    },
    {
      "cell_type": "markdown",
      "metadata": {
        "id": "-4zq8Mza_D9O"
      },
      "source": [
        "### Importing the dataset"
      ]
    },
    {
      "cell_type": "code",
      "source": [
        "dataset = pd.read_excel('Folds5x2_pp.xlsx')\n",
        "X = dataset.iloc[:,:-1].values #Matrix Features (dataset.iloc[:,0:4])\n",
        "y = dataset.iloc[:,-1].values #Dependent Variable Vector/Array"
      ],
      "metadata": {
        "id": "JNg6_9cfe4Ga"
      },
      "execution_count": 4,
      "outputs": []
    },
    {
      "cell_type": "code",
      "source": [
        "print(X)\n",
        "print(y)"
      ],
      "metadata": {
        "colab": {
          "base_uri": "https://localhost:8080/"
        },
        "id": "To1ep6p-iPNV",
        "outputId": "2b5d844a-dd77-4d1b-cf1b-98baeacf84b0"
      },
      "execution_count": 5,
      "outputs": [
        {
          "output_type": "stream",
          "name": "stdout",
          "text": [
            "[[  14.96   41.76 1024.07   73.17]\n",
            " [  25.18   62.96 1020.04   59.08]\n",
            " [   5.11   39.4  1012.16   92.14]\n",
            " ...\n",
            " [  31.32   74.33 1012.92   36.48]\n",
            " [  24.48   69.45 1013.86   62.39]\n",
            " [  21.6    62.52 1017.23   67.87]]\n",
            "[463.26 444.37 488.56 ... 429.57 435.74 453.28]\n"
          ]
        }
      ]
    },
    {
      "cell_type": "markdown",
      "metadata": {
        "id": "VC6omXel_Up0"
      },
      "source": [
        "### Splitting the dataset into the Training set and Test set"
      ]
    },
    {
      "cell_type": "code",
      "source": [
        "from sklearn.model_selection import train_test_split\n",
        "#X_train : Matrix Features Training Set\n",
        "#X_test : Matrix Features Test Set\n",
        "#y_train : Dependent Variable Training Set\n",
        "#y_test : Dependent Variable Test Set\n",
        "X_train,X_test, y_train,y_test = train_test_split(X,y,test_size=0.2,random_state=0)"
      ],
      "metadata": {
        "id": "q05jd4yKiNq6"
      },
      "execution_count": 6,
      "outputs": []
    },
    {
      "cell_type": "markdown",
      "metadata": {
        "id": "_mSLlAT9_eyI"
      },
      "source": [
        "## Part 2 - Building the ANN"
      ]
    },
    {
      "cell_type": "markdown",
      "metadata": {
        "id": "CsBULd_f_wLY"
      },
      "source": [
        "### Initializing the ANN"
      ]
    },
    {
      "cell_type": "code",
      "source": [
        "ann = tf.keras.models.Sequential()"
      ],
      "metadata": {
        "id": "TerPp7KHlC_V"
      },
      "execution_count": 7,
      "outputs": []
    },
    {
      "cell_type": "markdown",
      "metadata": {
        "id": "iitAFJS_ABUn"
      },
      "source": [
        "### Adding the input layer and the first hidden layer"
      ]
    },
    {
      "cell_type": "code",
      "source": [
        "ann.add(tf.keras.layers.Dense(units = 6,activation='relu'))"
      ],
      "metadata": {
        "id": "z_Nj_0I5lluY"
      },
      "execution_count": 8,
      "outputs": []
    },
    {
      "cell_type": "markdown",
      "metadata": {
        "id": "-lb4kK_wAKbs"
      },
      "source": [
        "### Adding the second hidden layer"
      ]
    },
    {
      "cell_type": "code",
      "source": [
        "ann.add(tf.keras.layers.Dense(units = 6,activation='relu'))\n"
      ],
      "metadata": {
        "id": "QKVVNo-8mhob"
      },
      "execution_count": 9,
      "outputs": []
    },
    {
      "cell_type": "markdown",
      "metadata": {
        "id": "jwMOmKb3AdBY"
      },
      "source": [
        "### Adding the output layer"
      ]
    },
    {
      "cell_type": "code",
      "source": [
        "ann.add(tf.keras.layers.Dense(units = 1))\n",
        "#for regression Activation Function of output layer is none"
      ],
      "metadata": {
        "id": "SrYPXIvcmxo0"
      },
      "execution_count": 10,
      "outputs": []
    },
    {
      "cell_type": "markdown",
      "metadata": {
        "id": "fq7e4fF6A1yy"
      },
      "source": [
        "## Part 3 - Training the ANN"
      ]
    },
    {
      "cell_type": "markdown",
      "metadata": {
        "id": "qDeylAs2An25"
      },
      "source": [
        "### Compiling the ANN"
      ]
    },
    {
      "cell_type": "code",
      "source": [
        "ann.compile(optimizer = 'adam',loss = 'mean_squared_error')"
      ],
      "metadata": {
        "id": "XnK0kGykn1y7"
      },
      "execution_count": 11,
      "outputs": []
    },
    {
      "cell_type": "markdown",
      "metadata": {
        "id": "YjVuiybYOo7r"
      },
      "source": [
        "### Training the ANN model on the Training set"
      ]
    },
    {
      "cell_type": "code",
      "source": [
        "ann.fit(X_train,y_train,epochs=100,batch_size = 32)"
      ],
      "metadata": {
        "colab": {
          "base_uri": "https://localhost:8080/"
        },
        "id": "wS99I3h6oaCD",
        "outputId": "02864f20-223b-4547-adcd-157fb2342174"
      },
      "execution_count": 12,
      "outputs": [
        {
          "output_type": "stream",
          "name": "stdout",
          "text": [
            "Epoch 1/100\n",
            "240/240 [==============================] - 1s 1ms/step - loss: 5162.8130\n",
            "Epoch 2/100\n",
            "240/240 [==============================] - 0s 2ms/step - loss: 166.8195\n",
            "Epoch 3/100\n",
            "240/240 [==============================] - 0s 2ms/step - loss: 161.4372\n",
            "Epoch 4/100\n",
            "240/240 [==============================] - 0s 2ms/step - loss: 155.0144\n",
            "Epoch 5/100\n",
            "240/240 [==============================] - 0s 1ms/step - loss: 146.8218\n",
            "Epoch 6/100\n",
            "240/240 [==============================] - 0s 2ms/step - loss: 137.9966\n",
            "Epoch 7/100\n",
            "240/240 [==============================] - 0s 1ms/step - loss: 128.6761\n",
            "Epoch 8/100\n",
            "240/240 [==============================] - 0s 2ms/step - loss: 118.5003\n",
            "Epoch 9/100\n",
            "240/240 [==============================] - 0s 2ms/step - loss: 107.8509\n",
            "Epoch 10/100\n",
            "240/240 [==============================] - 0s 1ms/step - loss: 97.3058\n",
            "Epoch 11/100\n",
            "240/240 [==============================] - 0s 2ms/step - loss: 87.1200\n",
            "Epoch 12/100\n",
            "240/240 [==============================] - 0s 1ms/step - loss: 77.8651\n",
            "Epoch 13/100\n",
            "240/240 [==============================] - 0s 1ms/step - loss: 68.9024\n",
            "Epoch 14/100\n",
            "240/240 [==============================] - 0s 2ms/step - loss: 61.2778\n",
            "Epoch 15/100\n",
            "240/240 [==============================] - 0s 1ms/step - loss: 54.3899\n",
            "Epoch 16/100\n",
            "240/240 [==============================] - 0s 2ms/step - loss: 48.9042\n",
            "Epoch 17/100\n",
            "240/240 [==============================] - 0s 2ms/step - loss: 43.8659\n",
            "Epoch 18/100\n",
            "240/240 [==============================] - 0s 1ms/step - loss: 39.9625\n",
            "Epoch 19/100\n",
            "240/240 [==============================] - 0s 1ms/step - loss: 36.6210\n",
            "Epoch 20/100\n",
            "240/240 [==============================] - 0s 2ms/step - loss: 33.9234\n",
            "Epoch 21/100\n",
            "240/240 [==============================] - 0s 1ms/step - loss: 31.8090\n",
            "Epoch 22/100\n",
            "240/240 [==============================] - 0s 2ms/step - loss: 30.5410\n",
            "Epoch 23/100\n",
            "240/240 [==============================] - 0s 2ms/step - loss: 29.8681\n",
            "Epoch 24/100\n",
            "240/240 [==============================] - 0s 1ms/step - loss: 29.1206\n",
            "Epoch 25/100\n",
            "240/240 [==============================] - 0s 2ms/step - loss: 28.7507\n",
            "Epoch 26/100\n",
            "240/240 [==============================] - 0s 2ms/step - loss: 28.4082\n",
            "Epoch 27/100\n",
            "240/240 [==============================] - 0s 1ms/step - loss: 28.3737\n",
            "Epoch 28/100\n",
            "240/240 [==============================] - 0s 2ms/step - loss: 28.2171\n",
            "Epoch 29/100\n",
            "240/240 [==============================] - 0s 1ms/step - loss: 28.2706\n",
            "Epoch 30/100\n",
            "240/240 [==============================] - 0s 2ms/step - loss: 29.0532\n",
            "Epoch 31/100\n",
            "240/240 [==============================] - 0s 1ms/step - loss: 28.6052\n",
            "Epoch 32/100\n",
            "240/240 [==============================] - 0s 1ms/step - loss: 27.7633\n",
            "Epoch 33/100\n",
            "240/240 [==============================] - 0s 2ms/step - loss: 27.7672\n",
            "Epoch 34/100\n",
            "240/240 [==============================] - 0s 2ms/step - loss: 27.6495\n",
            "Epoch 35/100\n",
            "240/240 [==============================] - 0s 2ms/step - loss: 27.5791\n",
            "Epoch 36/100\n",
            "240/240 [==============================] - 0s 1ms/step - loss: 28.2786\n",
            "Epoch 37/100\n",
            "240/240 [==============================] - 0s 1ms/step - loss: 27.4032\n",
            "Epoch 38/100\n",
            "240/240 [==============================] - 0s 1ms/step - loss: 27.4896\n",
            "Epoch 39/100\n",
            "240/240 [==============================] - 0s 1ms/step - loss: 27.9372\n",
            "Epoch 40/100\n",
            "240/240 [==============================] - 0s 1ms/step - loss: 27.8180\n",
            "Epoch 41/100\n",
            "240/240 [==============================] - 0s 2ms/step - loss: 27.0260\n",
            "Epoch 42/100\n",
            "240/240 [==============================] - 0s 1ms/step - loss: 26.9602\n",
            "Epoch 43/100\n",
            "240/240 [==============================] - 0s 1ms/step - loss: 26.9941\n",
            "Epoch 44/100\n",
            "240/240 [==============================] - 0s 2ms/step - loss: 27.7006\n",
            "Epoch 45/100\n",
            "240/240 [==============================] - 0s 1ms/step - loss: 27.1921\n",
            "Epoch 46/100\n",
            "240/240 [==============================] - 0s 2ms/step - loss: 26.4048\n",
            "Epoch 47/100\n",
            "240/240 [==============================] - 0s 1ms/step - loss: 26.9376\n",
            "Epoch 48/100\n",
            "240/240 [==============================] - 0s 1ms/step - loss: 26.3616\n",
            "Epoch 49/100\n",
            "240/240 [==============================] - 0s 1ms/step - loss: 26.6231\n",
            "Epoch 50/100\n",
            "240/240 [==============================] - 0s 2ms/step - loss: 25.6512\n",
            "Epoch 51/100\n",
            "240/240 [==============================] - 0s 1ms/step - loss: 25.9718\n",
            "Epoch 52/100\n",
            "240/240 [==============================] - 0s 1ms/step - loss: 25.9264\n",
            "Epoch 53/100\n",
            "240/240 [==============================] - 0s 1ms/step - loss: 25.8814\n",
            "Epoch 54/100\n",
            "240/240 [==============================] - 0s 1ms/step - loss: 25.8008\n",
            "Epoch 55/100\n",
            "240/240 [==============================] - 0s 1ms/step - loss: 25.4810\n",
            "Epoch 56/100\n",
            "240/240 [==============================] - 0s 2ms/step - loss: 25.4608\n",
            "Epoch 57/100\n",
            "240/240 [==============================] - 0s 1ms/step - loss: 25.6478\n",
            "Epoch 58/100\n",
            "240/240 [==============================] - 0s 2ms/step - loss: 25.1191\n",
            "Epoch 59/100\n",
            "240/240 [==============================] - 0s 1ms/step - loss: 24.4521\n",
            "Epoch 60/100\n",
            "240/240 [==============================] - 0s 1ms/step - loss: 24.4800\n",
            "Epoch 61/100\n",
            "240/240 [==============================] - 0s 2ms/step - loss: 24.9052\n",
            "Epoch 62/100\n",
            "240/240 [==============================] - 0s 1ms/step - loss: 24.5356\n",
            "Epoch 63/100\n",
            "240/240 [==============================] - 0s 2ms/step - loss: 25.5072\n",
            "Epoch 64/100\n",
            "240/240 [==============================] - 0s 2ms/step - loss: 24.8673\n",
            "Epoch 65/100\n",
            "240/240 [==============================] - 0s 1ms/step - loss: 24.9934\n",
            "Epoch 66/100\n",
            "240/240 [==============================] - 0s 2ms/step - loss: 24.4133\n",
            "Epoch 67/100\n",
            "240/240 [==============================] - 0s 1ms/step - loss: 25.0000\n",
            "Epoch 68/100\n",
            "240/240 [==============================] - 0s 1ms/step - loss: 24.7463\n",
            "Epoch 69/100\n",
            "240/240 [==============================] - 0s 1ms/step - loss: 24.8654\n",
            "Epoch 70/100\n",
            "240/240 [==============================] - 0s 2ms/step - loss: 24.6959\n",
            "Epoch 71/100\n",
            "240/240 [==============================] - 0s 2ms/step - loss: 25.0911\n",
            "Epoch 72/100\n",
            "240/240 [==============================] - 0s 2ms/step - loss: 24.6022\n",
            "Epoch 73/100\n",
            "240/240 [==============================] - 0s 1ms/step - loss: 24.9525\n",
            "Epoch 74/100\n",
            "240/240 [==============================] - 0s 1ms/step - loss: 25.0896\n",
            "Epoch 75/100\n",
            "240/240 [==============================] - 0s 2ms/step - loss: 24.9029\n",
            "Epoch 76/100\n",
            "240/240 [==============================] - 0s 2ms/step - loss: 24.5364\n",
            "Epoch 77/100\n",
            "240/240 [==============================] - 0s 1ms/step - loss: 24.7353\n",
            "Epoch 78/100\n",
            "240/240 [==============================] - 0s 1ms/step - loss: 25.0110\n",
            "Epoch 79/100\n",
            "240/240 [==============================] - 0s 1ms/step - loss: 24.4009\n",
            "Epoch 80/100\n",
            "240/240 [==============================] - 0s 1ms/step - loss: 24.3270\n",
            "Epoch 81/100\n",
            "240/240 [==============================] - 0s 1ms/step - loss: 24.5925\n",
            "Epoch 82/100\n",
            "240/240 [==============================] - 0s 2ms/step - loss: 24.2604\n",
            "Epoch 83/100\n",
            "240/240 [==============================] - 0s 2ms/step - loss: 24.7040\n",
            "Epoch 84/100\n",
            "240/240 [==============================] - 0s 2ms/step - loss: 24.7184\n",
            "Epoch 85/100\n",
            "240/240 [==============================] - 0s 2ms/step - loss: 24.9267\n",
            "Epoch 86/100\n",
            "240/240 [==============================] - 0s 2ms/step - loss: 24.5289\n",
            "Epoch 87/100\n",
            "240/240 [==============================] - 0s 2ms/step - loss: 24.3708\n",
            "Epoch 88/100\n",
            "240/240 [==============================] - 0s 2ms/step - loss: 25.5217\n",
            "Epoch 89/100\n",
            "240/240 [==============================] - 0s 2ms/step - loss: 24.9636\n",
            "Epoch 90/100\n",
            "240/240 [==============================] - 0s 1ms/step - loss: 25.1089\n",
            "Epoch 91/100\n",
            "240/240 [==============================] - 0s 2ms/step - loss: 24.5153\n",
            "Epoch 92/100\n",
            "240/240 [==============================] - 0s 1ms/step - loss: 24.1863\n",
            "Epoch 93/100\n",
            "240/240 [==============================] - 0s 1ms/step - loss: 24.3650\n",
            "Epoch 94/100\n",
            "240/240 [==============================] - 0s 1ms/step - loss: 24.7818\n",
            "Epoch 95/100\n",
            "240/240 [==============================] - 0s 2ms/step - loss: 24.6478\n",
            "Epoch 96/100\n",
            "240/240 [==============================] - 0s 2ms/step - loss: 25.4293\n",
            "Epoch 97/100\n",
            "240/240 [==============================] - 0s 2ms/step - loss: 24.6167\n",
            "Epoch 98/100\n",
            "240/240 [==============================] - 0s 1ms/step - loss: 25.1432\n",
            "Epoch 99/100\n",
            "240/240 [==============================] - 0s 2ms/step - loss: 23.9992\n",
            "Epoch 100/100\n",
            "240/240 [==============================] - 0s 1ms/step - loss: 24.8777\n"
          ]
        },
        {
          "output_type": "execute_result",
          "data": {
            "text/plain": [
              "<keras.callbacks.History at 0x7f0a17da3ee0>"
            ]
          },
          "metadata": {},
          "execution_count": 12
        }
      ]
    },
    {
      "cell_type": "markdown",
      "metadata": {
        "id": "0H0zKKNEBLD5"
      },
      "source": [
        "### Predicting the results of the Test set"
      ]
    },
    {
      "cell_type": "code",
      "source": [
        "y_pre = ann.predict(X_test)\n",
        "np.set_printoptions(precision = 2)\n",
        "# y_pre.reshape(len(y_pre),1)\n",
        "# y_test.reshape(len(y_test),1)\n",
        "print(np.concatenate((y_pre.reshape(len(y_pre),1),\n",
        "y_test.reshape(len(y_test),1)),1))"
      ],
      "metadata": {
        "colab": {
          "base_uri": "https://localhost:8080/"
        },
        "id": "l_ckp55QqVUw",
        "outputId": "2335a953-e843-40b6-b111-7e974a17e845"
      },
      "execution_count": 13,
      "outputs": [
        {
          "output_type": "stream",
          "name": "stdout",
          "text": [
            "60/60 [==============================] - 0s 1ms/step\n",
            "[[434.57 431.23]\n",
            " [463.41 460.01]\n",
            " [468.06 461.14]\n",
            " ...\n",
            " [475.16 473.26]\n",
            " [439.78 438.  ]\n",
            " [460.29 463.28]]\n"
          ]
        }
      ]
    }
  ]
}